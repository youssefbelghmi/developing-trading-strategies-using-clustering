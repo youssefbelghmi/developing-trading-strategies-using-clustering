{
 "cells": [
  {
   "cell_type": "markdown",
   "id": "11ff24e2-252c-42c4-a22c-70ee344ecd39",
   "metadata": {},
   "source": [
    "# Main Notebook \n",
    "This notebook runs all notebooks in the necessary order with boolean control for a full analysis or only a demonstration."
   ]
  },
  {
   "cell_type": "code",
   "execution_count": 38,
   "id": "8ba3e84d-2188-4eac-95f3-36cc4b0b6200",
   "metadata": {},
   "outputs": [
    {
     "name": "stderr",
     "output_type": "stream",
     "text": [
      "0.00s - Debugger warning: It seems that frozen modules are being used, which may\n",
      "0.00s - make the debugger miss breakpoints. Please pass -Xfrozen_modules=off\n",
      "0.00s - to python to disable frozen modules.\n",
      "0.00s - Note: Debugging will proceed. Set PYDEVD_DISABLE_FILE_VALIDATION=1 to disable this validation.\n"
     ]
    },
    {
     "name": "stdout",
     "output_type": "stream",
     "text": [
      "Executed notebook: preprocessing.ipynb\n"
     ]
    },
    {
     "name": "stderr",
     "output_type": "stream",
     "text": [
      "0.00s - Debugger warning: It seems that frozen modules are being used, which may\n",
      "0.00s - make the debugger miss breakpoints. Please pass -Xfrozen_modules=off\n",
      "0.00s - to python to disable frozen modules.\n",
      "0.00s - Note: Debugging will proceed. Set PYDEVD_DISABLE_FILE_VALIDATION=1 to disable this validation.\n"
     ]
    },
    {
     "name": "stdout",
     "output_type": "stream",
     "text": [
      "Executed notebook: observation.ipynb\n"
     ]
    },
    {
     "name": "stderr",
     "output_type": "stream",
     "text": [
      "0.00s - Debugger warning: It seems that frozen modules are being used, which may\n",
      "0.00s - make the debugger miss breakpoints. Please pass -Xfrozen_modules=off\n",
      "0.00s - to python to disable frozen modules.\n",
      "0.00s - Note: Debugging will proceed. Set PYDEVD_DISABLE_FILE_VALIDATION=1 to disable this validation.\n"
     ]
    },
    {
     "name": "stdout",
     "output_type": "stream",
     "text": [
      "Executed notebook: log_return_matrix.ipynb\n"
     ]
    },
    {
     "name": "stderr",
     "output_type": "stream",
     "text": [
      "0.00s - Debugger warning: It seems that frozen modules are being used, which may\n",
      "0.00s - make the debugger miss breakpoints. Please pass -Xfrozen_modules=off\n",
      "0.00s - to python to disable frozen modules.\n",
      "0.00s - Note: Debugging will proceed. Set PYDEVD_DISABLE_FILE_VALIDATION=1 to disable this validation.\n"
     ]
    },
    {
     "name": "stdout",
     "output_type": "stream",
     "text": [
      "Executed notebook: clustering.ipynb\n"
     ]
    },
    {
     "data": {
      "text/markdown": [
       "Results obtained by the First strategy"
      ],
      "text/plain": [
       "<IPython.core.display.Markdown object>"
      ]
     },
     "metadata": {},
     "output_type": "display_data"
    },
    {
     "name": "stderr",
     "output_type": "stream",
     "text": [
      "0.00s - Debugger warning: It seems that frozen modules are being used, which may\n",
      "0.00s - make the debugger miss breakpoints. Please pass -Xfrozen_modules=off\n",
      "0.00s - to python to disable frozen modules.\n",
      "0.00s - Note: Debugging will proceed. Set PYDEVD_DISABLE_FILE_VALIDATION=1 to disable this validation.\n"
     ]
    },
    {
     "name": "stdout",
     "output_type": "stream",
     "text": [
      "Portfolio Cumulative Return : 0.08%\n",
      "Buy and Hold Cumulative Return : -0.30%\n",
      "\n",
      "Portfolio Sharpe Ratio : 0.15\n",
      "Buy and Hold Sharpe Ratio : -0.32\n",
      "\n",
      "Portfolio Volatility : 0.149\n",
      "Buy and Hold Volatility : 0.001\n",
      "\n"
     ]
    },
    {
     "data": {
      "text/markdown": [
       "Results obtained by the Second strategy"
      ],
      "text/plain": [
       "<IPython.core.display.Markdown object>"
      ]
     },
     "metadata": {},
     "output_type": "display_data"
    },
    {
     "name": "stderr",
     "output_type": "stream",
     "text": [
      "0.00s - Debugger warning: It seems that frozen modules are being used, which may\n",
      "0.00s - make the debugger miss breakpoints. Please pass -Xfrozen_modules=off\n",
      "0.00s - to python to disable frozen modules.\n",
      "0.00s - Note: Debugging will proceed. Set PYDEVD_DISABLE_FILE_VALIDATION=1 to disable this validation.\n"
     ]
    },
    {
     "name": "stdout",
     "output_type": "stream",
     "text": [
      "Portfolio Cumulative Return : 0.05%\n",
      "Buy and Hold Cumulative Return : -0.30%\n",
      "\n",
      "Portfolio Sharpe Ratio : 0.13\n",
      "Buy and Hold Sharpe Ratio : -0.32\n",
      "\n",
      "Portfolio Volatility : 0.000\n",
      "Buy and Hold Volatility : 0.001\n",
      "\n"
     ]
    },
    {
     "data": {
      "text/markdown": [
       "Results obtained by the Third strategy"
      ],
      "text/plain": [
       "<IPython.core.display.Markdown object>"
      ]
     },
     "metadata": {},
     "output_type": "display_data"
    },
    {
     "name": "stderr",
     "output_type": "stream",
     "text": [
      "0.00s - Debugger warning: It seems that frozen modules are being used, which may\n",
      "0.00s - make the debugger miss breakpoints. Please pass -Xfrozen_modules=off\n",
      "0.00s - to python to disable frozen modules.\n",
      "0.00s - Note: Debugging will proceed. Set PYDEVD_DISABLE_FILE_VALIDATION=1 to disable this validation.\n"
     ]
    },
    {
     "name": "stdout",
     "output_type": "stream",
     "text": [
      "Portfolio Cumulative Return : -0.01%\n",
      "Buy and Hold Cumulative Return : -0.30%\n",
      "\n",
      "Portfolio Sharpe Ratio : -0.02\n",
      "Buy and Hold Sharpe Ratio : -0.32\n",
      "\n",
      "Portfolio Volatility : 0.000\n",
      "Buy and Hold Volatility : 0.001\n",
      "\n",
      "All notebooks executed successfully.\n"
     ]
    }
   ],
   "source": [
    "# Import necessary libraries\n",
    "import nbformat\n",
    "import warnings\n",
    "from nbconvert.preprocessors import ExecutePreprocessor\n",
    "from IPython.display import display, Markdown\n",
    "\n",
    "# Hide Warnings\n",
    "warnings.filterwarnings(\"ignore\", category=FutureWarning)\n",
    "\n",
    "# Function to execute a notebook without capturing output\n",
    "def run_notebook_silently(notebook_path, parameters=None):\n",
    "    \"\"\"Executes a Jupyter notebook without capturing or displaying its output.\"\"\"\n",
    "    with open(notebook_path) as f:\n",
    "        nb = nbformat.read(f, as_version=4)\n",
    "        ep = ExecutePreprocessor(timeout=600, kernel_name='python3')\n",
    "\n",
    "        # Inject parameters if provided\n",
    "        if parameters:\n",
    "            nb['cells'].insert(0, nbformat.v4.new_code_cell(f\"# Injected parameters\\n{parameters}\"))\n",
    "\n",
    "        try:\n",
    "            ep.preprocess(nb, {'metadata': {'path': './'}})\n",
    "            print(f\"Executed notebook: {notebook_path}\")\n",
    "        except Exception as e:\n",
    "            print(f\"Error while executing notebook {notebook_path}: {e}\")\n",
    "\n",
    "# Function to execute a notebook and capture only print outputs\n",
    "def run_notebook_with_prints(notebook_path, strategy_name=None):\n",
    "    \"\"\"Executes a Jupyter notebook and captures only print outputs.\"\"\"\n",
    "    with open(notebook_path) as f:\n",
    "        nb = nbformat.read(f, as_version=4)\n",
    "        ep = ExecutePreprocessor(timeout=600, kernel_name='python3')\n",
    "\n",
    "        # Display a header for the strategy\n",
    "        if strategy_name:\n",
    "            display(Markdown(f\"Results obtained by the {strategy_name} strategy\"))\n",
    "\n",
    "        # Execute the notebook and capture output\n",
    "        try:\n",
    "            ep.preprocess(nb, {'metadata': {'path': './'}})\n",
    "\n",
    "            # Display only print outputs from code cells\n",
    "            for cell in nb['cells']:\n",
    "                if cell.cell_type == \"code\" and \"outputs\" in cell:\n",
    "                    for output in cell[\"outputs\"]:\n",
    "                        if output.output_type == \"stream\" and \"text\" in output:\n",
    "                            print(output[\"text\"])\n",
    "        except Exception as e:\n",
    "            print(f\"Error while executing notebook {notebook_path}: {e}\")\n",
    "\n",
    "# Data switch\n",
    "full_analysis = False  # Set to True for full analysis, False for demo workflow\n",
    "\n",
    "# Define input and output folders based on full_analysis\n",
    "input_folder = \"S&P500\" if full_analysis else \"S&P500_demo\"\n",
    "output_folder = \"S&P500_cleaned\"\n",
    "\n",
    "# Run preprocessing notebook without capturing output\n",
    "run_notebook_silently(\n",
    "    \"preprocessing.ipynb\",\n",
    "    parameters=f\"input_folder = '{input_folder}'\\noutput_folder = '{output_folder}'\\nfull_analysis = {full_analysis}\"\n",
    ")\n",
    "\n",
    "# Run other notebooks silently\n",
    "notebooks = [\"observation.ipynb\", \"log_return_matrix.ipynb\", \"clustering.ipynb\"]\n",
    "for notebook in notebooks:\n",
    "    run_notebook_silently(notebook)\n",
    "\n",
    "# Run strategy notebooks and display only print outputs\n",
    "strategy_notebooks = [\n",
    "    (\"first_strategy.ipynb\", \"First\"),\n",
    "    (\"second_strategy.ipynb\", \"Second\"),\n",
    "    (\"third_strategy.ipynb\", \"Third\")\n",
    "]\n",
    "\n",
    "for notebook_path, strategy_name in strategy_notebooks:\n",
    "    run_notebook_with_prints(notebook_path, strategy_name=strategy_name)\n",
    "\n",
    "print(\"All notebooks executed successfully.\")"
   ]
  }
 ],
 "metadata": {
  "kernelspec": {
   "display_name": "Python 3 (ipykernel)",
   "language": "python",
   "name": "python3"
  },
  "language_info": {
   "codemirror_mode": {
    "name": "ipython",
    "version": 3
   },
   "file_extension": ".py",
   "mimetype": "text/x-python",
   "name": "python",
   "nbconvert_exporter": "python",
   "pygments_lexer": "ipython3",
   "version": "3.12.2"
  }
 },
 "nbformat": 4,
 "nbformat_minor": 5
}
